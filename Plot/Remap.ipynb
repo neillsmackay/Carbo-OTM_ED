{
 "cells": [
  {
   "cell_type": "markdown",
   "id": "74b125d9-5d2f-4508-a3b0-553eb8fc2b1f",
   "metadata": {},
   "source": [
    "## Remapping BSP in Eulerian coordinates for ECCO outputs in 3D"
   ]
  },
  {
   "cell_type": "code",
   "execution_count": 1,
   "id": "96824abe-c0ce-455e-8894-518d2624110a",
   "metadata": {},
   "outputs": [],
   "source": [
    "# Import the MTM function from the WM_Methods package\n",
    "#from WM_Methods import MTM, Remapping\n",
    "## Module to track runtime of cells and loops\n",
    "#import time\n",
    "import numpy as np\n",
    "#import matplotlib.pyplot as plt\n",
    "#import matplotlib.patches as patches\n",
    "#import pandas as pd\n",
    "import xarray as xr\n",
    "from tqdm.notebook import tqdm\n",
    "import math\n",
    "import matplotlib.pyplot as plt\n",
    "import dask.array as da\n",
    "\n",
    "## Load a text file that includes the list of strings pointing to the relevant data. \n",
    "## This ensures that pull requests don't continuously overwrite hardcoded file paths.\n",
    "\n",
    "filename = 'C:/Users/nm455/OneDrive - University of Exeter/UNICORNS/MTM/WM_Methods/folders_ECCO.txt'\n",
    "with open(filename) as f:\n",
    "    mylist = f.read().splitlines()\n",
    "    "
   ]
  },
  {
   "cell_type": "code",
   "execution_count": 12,
   "id": "f1748bff-2114-4e8d-9cbb-bb1da3413c80",
   "metadata": {},
   "outputs": [],
   "source": [
    "# Load MTM result\n",
    "\n",
    "OTMrun='noprior'\n",
    "yr_init=1992\n",
    "\n",
    "MTM_result = xr.open_mfdataset(OTMrun+'_transports.nc')\n",
    "\n",
    "Basins = MTM_result.Basins\n",
    "tree_depth=int(math.log2(MTM_result.tree_depth))\n",
    "\n",
    "month_init_early=(MTM_result.init_early-yr_init)*12\n",
    "month_init_late=(MTM_result.init_late-yr_init)*12\n",
    "Early_period = (np.array([month_init_early,month_init_early+MTM_result.dyrs*12]))\n",
    "Late_period = (np.array([month_init_late,month_init_late+MTM_result.dyrs*12]))\n"
   ]
  },
  {
   "cell_type": "code",
   "execution_count": 13,
   "id": "e751ed53-03d3-4763-9b75-39aadc8e7ec4",
   "metadata": {},
   "outputs": [],
   "source": [
    "## Load BSP data and calculate fluxes\n",
    "\n",
    "ECCO_BSP_data = xr.open_mfdataset(('C:/Users/nm455/OneDrive - University of Exeter/UNICORNS/MTM/tree_depth_6_BSP_ECCO/9_Basins_fluxerr_6/BSP_ECCO_monthly_*'))\n",
    "\n",
    "## Early Period\n",
    "Part_early = ECCO_BSP_data.Partitions_hist.isel(Time=slice(Early_period[0],Early_period[1])).mean('Time')\n",
    "SA_early =  ECCO_BSP_data.S_mean_hist.isel(Time=slice(Early_period[0],Early_period[1])).mean('Time')\n",
    "CT_early = ECCO_BSP_data.T_mean_hist.isel(Time=slice(Early_period[0],Early_period[1])).mean('Time')\n",
    "C_early = ECCO_BSP_data.C_mean_hist.isel(Time=slice(Early_period[0],Early_period[1])).mean('Time')                                 \n",
    "V_early = ECCO_BSP_data.V_sum_hist.isel(Time=slice(Early_period[0],Early_period[1])).mean('Time')\n",
    "A_early = ECCO_BSP_data.A_sum_hist.isel(Time=slice(Early_period[0],Early_period[1])).mean('Time')\n",
    "# Asection_early = ACCESS_BSP_data.Asection_sum.isel(Time=slice(Early_period[0],Early_period[1])).mean('Time')\n",
    "\n",
    "## Late Period\n",
    "Part_late = ECCO_BSP_data.Partitions_hist.isel(Time=slice(Late_period[0],Late_period[1])).mean('Time')\n",
    "SA_late =  ECCO_BSP_data.S_mean_hist.isel(Time=slice(Late_period[0],Late_period[1])).mean('Time')\n",
    "CT_late = ECCO_BSP_data.T_mean_hist.isel(Time=slice(Late_period[0],Late_period[1])).mean('Time')\n",
    "C_late = ECCO_BSP_data.C_mean_hist.isel(Time=slice(Late_period[0],Late_period[1])).mean('Time')\n",
    "V_late = ECCO_BSP_data.V_sum_hist.isel(Time=slice(Late_period[0],Late_period[1])).mean('Time')\n",
    "A_late = ECCO_BSP_data.A_sum_hist.isel(Time=slice(Late_period[0],Late_period[1])).mean('Time')\n",
    "# Asection_late = ACCESS_BSP_data.Asection_sum.isel(Time=slice(Late_period[0],Late_period[1])).mean('Time')\n",
    "\n",
    "Basins = ECCO_BSP_data.Basin.values\n",
    "# Sections = ACCESS_BSP_data.Section.values\n",
    "\n",
    "ECCO_time = xr.open_mfdataset('C:/Users/nm455/OneDrive - University of Exeter/UNICORNS/ECCO-Darwin/ECCO_time.nc')\n",
    "ECCO_dt=(np.hstack([ECCO_time.ECCO_time[0].values,np.diff(ECCO_time.ECCO_time)])).reshape(1,323,1)\n",
    "ECCO_dt=ECCO_dt[:,0:ECCO_BSP_data.Time.size,:]\n",
    "\n",
    "## Calculate the cumulative time integrated surface fluxes \n",
    "HFDS_cumsum = ((ECCO_BSP_data.hfds_sum_hist*ECCO_dt).cumsum('Time').isel(Time=Late_period[-1]))\\\n",
    "    -((ECCO_BSP_data.hfds_sum_hist*ECCO_dt).cumsum('Time').isel(Time=Early_period[0])) # units: J\n",
    "SFI_cumsum = ((ECCO_BSP_data.sfi_sum_hist*ECCO_dt).cumsum('Time').isel(Time=Late_period[-1]))\\\n",
    "     -((ECCO_BSP_data.sfi_sum_hist*ECCO_dt).cumsum('Time').isel(Time=Early_period[0]))# units: g\n",
    "WFO_cumsum = ((ECCO_BSP_data.wfo_sum_hist*ECCO_dt).cumsum('Time').isel(Time=Late_period[-1]))\\\n",
    "     -((ECCO_BSP_data.wfo_sum_hist*ECCO_dt).cumsum('Time').isel(Time=Early_period[0]))# units: kg\n",
    "Cflux_cumsum = ((ECCO_BSP_data.Cflux_sum_hist*ECCO_dt).cumsum('Time').isel(Time=Late_period[-1]))\\\n",
    "                -((ECCO_BSP_data.Cflux_sum_hist*ECCO_dt).cumsum('Time').isel(Time=Early_period[0])) # units: mmol-C\n",
    "    \n",
    "dt_cumsum = ECCO_dt[0,Early_period[0]:Late_period[-1],0].sum() # units: seconds\n",
    "    \n",
    "    \n",
    "## The final dflux value is then scaled by the time between the middle of t1 and the middle of t2\n",
    "dhfds = HFDS_cumsum*((np.mean(Late_period)-np.mean(Early_period))/(Late_period[-1]-Early_period[0]))\n",
    "dsfi = SFI_cumsum*((np.mean(Late_period)-np.mean(Early_period))/(Late_period[-1]-Early_period[0]))\n",
    "dwfo = WFO_cumsum*((np.mean(Late_period)-np.mean(Early_period))/(Late_period[-1]-Early_period[0]))\n",
    "dCflux = Cflux_cumsum*((np.mean(Late_period)-np.mean(Early_period))/(Late_period[-1]-Early_period[0]))\n",
    "dt = dt_cumsum*((np.mean(Late_period)-np.mean(Early_period))/(Late_period[-1]-Early_period[0]))\n",
    "\n",
    "dC_Cflux = dCflux/V_early\n",
    "\n",
    "dC_Cflux = xr.where(np.isfinite(dC_Cflux),dC_Cflux,0)"
   ]
  },
  {
   "cell_type": "code",
   "execution_count": 14,
   "id": "5e8f19d8-4df9-4ff7-bfa9-19b9abfd2a8a",
   "metadata": {},
   "outputs": [],
   "source": [
    "## Load masks\n",
    "\n",
    "chunks = {'Time': 1, 'k': 2, 'tree_depth':1}\n",
    "chunks2 = {'k': 5, 'Basins': 1}\n",
    "\n",
    "# Load monthly remapping masks and take time mean over averaging period\n",
    "\n",
    "#Remapping_mask=xr.open_mfdataset(mylist[24], chunks = chunks).isel(Time=slice(Late_period[0],Late_period[1])).mean('Time')\n",
    "\n",
    "# Load time mean remapping mask\n",
    "\n",
    "Remapping_mask=xr.open_mfdataset('C:/Users/nm455/OneDrive - University of Exeter/UNICORNS/MTM/WM_Methods/Remapping_mask_ECCO_64.nc', chunks = chunks)\n",
    "\n",
    "# Load basin mask\n",
    "\n",
    "ECCO_mask = xr.open_mfdataset(mylist[7] ,decode_times=True, chunks = chunks2).astype('float32')\n"
   ]
  },
  {
   "cell_type": "code",
   "execution_count": 15,
   "id": "272a5276-a0cb-4c3c-867f-00c1940d7d66",
   "metadata": {},
   "outputs": [],
   "source": [
    "## Rearrange vector outputs by basin\n",
    "\n",
    "dC_adj=MTM_result.dC_adjustment.values.reshape(Basins.size,2**tree_depth) # mmol-C/m^3\n",
    "#dC_mix=MTM_result.dC_mixing.values.reshape(Basins.size,2**tree_depth) # mmol-C/m^3\n",
    "dC_prior=MTM_result.dC_Cflux.values.reshape(Basins.size,2**tree_depth) # mmol-C/m^3\n",
    "dC_change = C_late.values - C_early.values # mmol-C/m^3\n",
    "\n",
    "dC_adj[~np.isfinite(dC_adj)]=0\n",
    "#dC_mix[~np.isfinite(dC_mix)]=0\n",
    "dC_prior[~np.isfinite(dC_prior)]=0\n",
    "dC_change[~np.isfinite(dC_change)]=0\n"
   ]
  },
  {
   "cell_type": "code",
   "execution_count": 16,
   "id": "ff717c96-81df-4fba-82b8-b0ff9df34ab2",
   "metadata": {},
   "outputs": [
    {
     "name": "stderr",
     "output_type": "stream",
     "text": [
      "C:\\Users\\nm455\\AppData\\Local\\Temp\\ipykernel_155536\\3124744809.py:3: RuntimeWarning: invalid value encountered in divide\n",
      "  dC_mix=np.matmul(X,MTM_result.gij.values)/V_late.values.flatten() - (C_early.values.flatten()+dC_prior.flatten())\n"
     ]
    },
    {
     "data": {
      "image/png": "[encoded data removed]",
      "text/plain": [
       "<Figure size 640x480 with 1 Axes>"
      ]
     },
     "metadata": {},
     "output_type": "display_data"
    }
   ],
   "source": [
    "X = C_early.values.flatten()+dC_prior.flatten()\n",
    "X[np.isnan(X)]=0\n",
    "dC_mix=np.matmul(X,MTM_result.gij.values)/V_late.values.flatten() - (C_early.values.flatten()+dC_prior.flatten())\n",
    "\n",
    "plt.plot((dC_prior.flatten()+dC_mix+dC_adj.flatten()))\n",
    "plt.plot(dC_change.flatten())\n",
    "\n",
    "dC_mix=dC_mix.reshape(Basins.size,2**tree_depth)"
   ]
  },
  {
   "cell_type": "code",
   "execution_count": 17,
   "id": "ec705135-5916-4472-8688-7c01331e5faa",
   "metadata": {},
   "outputs": [
    {
     "data": {
      "application/vnd.jupyter.widget-view+json": {
       "model_id": "d6140ea7f3d44d129b86509695983f2e",
       "version_major": 2,
       "version_minor": 0
      },
      "text/plain": [
       "  0%|          | 0/64 [00:00<?, ?it/s]"
      ]
     },
     "metadata": {},
     "output_type": "display_data"
    },
    {
     "name": "stderr",
     "output_type": "stream",
     "text": [
      "C:\\Users\\nm455\\Anaconda3\\envs\\MTM\\lib\\site-packages\\dask\\core.py:119: RuntimeWarning: divide by zero encountered in divide\n",
      "  return func(*(_execute_task(a, cache) for a in args))\n",
      "C:\\Users\\nm455\\Anaconda3\\envs\\MTM\\lib\\site-packages\\dask\\core.py:119: RuntimeWarning: invalid value encountered in divide\n",
      "  return func(*(_execute_task(a, cache) for a in args))\n"
     ]
    }
   ],
   "source": [
    "## Allocate values to basins using basin and Eulerian masks\n",
    "\n",
    "Basin_mask=ECCO_mask.mask_ECCO\n",
    "\n",
    "dC_adj_tot = 0\n",
    "dC_mix_tot = 0\n",
    "dC_prior_tot = 0\n",
    "dC_Cflux_tot = 0\n",
    "dC_change_tot = 0\n",
    "\n",
    "for i in tqdm(range(2**tree_depth)):\n",
    "    tmp_dCadj = 0\n",
    "    tmp_dCmix = 0\n",
    "    tmp_prior = 0\n",
    "    tmp_dCflux = 0\n",
    "    tmp_change = 0\n",
    "    \n",
    "    for j in range(Basins.size):\n",
    "        \n",
    "        tmp = dC_adj[j,i]*Basin_mask[j,:,:,:,:].values * Remapping_mask.Eulerian_mask[i,:,:,:,:].values\n",
    "        #tmp=tmp.fillna(0)\n",
    "        tmp=np.nan_to_num(tmp,nan=0)\n",
    "        tmp_dCadj = tmp+tmp_dCadj\n",
    "        \n",
    "        tmp = dC_mix[j,i]*Basin_mask[j,:,:,:,:].values * Remapping_mask.Eulerian_mask[i,:,:,:,:].values\n",
    "        #tmp=tmp.fillna(0)\n",
    "        tmp=np.nan_to_num(tmp,nan=0)\n",
    "        tmp_dCmix = tmp+tmp_dCmix\n",
    "        \n",
    "        tmp = dC_prior[j,i]*Basin_mask[j,:,:,:,:].values * Remapping_mask.Eulerian_mask[i,:,:,:,:].values\n",
    "        #tmp=tmp.fillna(0)\n",
    "        tmp=np.nan_to_num(tmp,nan=0)\n",
    "        tmp_prior = tmp+tmp_prior\n",
    "        \n",
    "        tmp = dC_Cflux[j,i].values*Basin_mask[j,:,:,:,:].values * Remapping_mask.Eulerian_mask[i,:,:,:,:].values\n",
    "        tmp=np.nan_to_num(tmp,nan=0)\n",
    "        tmp_dCflux = tmp+tmp_dCflux\n",
    "        \n",
    "        tmp = dC_change[j,i]*Basin_mask[j,:,:,:,:].values * Remapping_mask.Eulerian_mask[i,:,:,:,:].values\n",
    "        tmp=np.nan_to_num(tmp,nan=0)\n",
    "        tmp_change = tmp+tmp_change\n",
    "                                                             \n",
    "        \n",
    "    dC_adj_tot = tmp_dCadj+dC_adj_tot\n",
    "    dC_mix_tot = tmp_dCmix+dC_mix_tot\n",
    "    dC_prior_tot = tmp_prior+dC_prior_tot\n",
    "    dC_Cflux_tot = tmp_dCflux+dC_Cflux_tot\n",
    "    dC_change_tot = tmp_change+dC_change_tot"
   ]
  },
  {
   "cell_type": "code",
   "execution_count": 18,
   "id": "5cb08129-11db-4b5e-afa0-27d7d34a4c92",
   "metadata": {},
   "outputs": [],
   "source": [
    "## Save remapped outputs to netcdf\n",
    "\n",
    "da_dC_adj_tot = xr.DataArray(data = dC_adj_tot.astype('float32'), dims = [\"k\",\"face\",\"j\",\"i\"])\n",
    "da_dC_mix_tot = xr.DataArray(data = dC_mix_tot.astype('float32'), dims = [\"k\",\"face\",\"j\",\"i\"])\n",
    "da_dC_Cflux_tot = xr.DataArray(data = dC_Cflux_tot.astype('float32'), dims = [\"k\",\"face\",\"j\",\"i\"])\n",
    "da_dC_prior_tot = xr.DataArray(data = dC_prior_tot.astype('float32'), dims = [\"k\",\"face\",\"j\",\"i\"])\n",
    "da_dC_change_tot = xr.DataArray(data = dC_change_tot.astype('float32'), dims = [\"k\",\"face\",\"j\",\"i\"])\n",
    "\n",
    "coords=dC_adj[0,0]*Basin_mask[0,:,:,:,:]*Remapping_mask.Eulerian_mask[0,:,:,:,:]\n",
    "\n",
    "ECCO_MTM_remapped=xr.Dataset(coords=coords.coords).astype('float32')\n",
    "ECCO_MTM_remapped['dC_adj_remapped'] = da_dC_adj_tot\n",
    "ECCO_MTM_remapped['dC_mix_remapped'] = da_dC_mix_tot\n",
    "ECCO_MTM_remapped['dC_Cflux_remapped'] = da_dC_Cflux_tot\n",
    "ECCO_MTM_remapped['dC_prior_remapped'] = da_dC_prior_tot\n",
    "ECCO_MTM_remapped['dC_change_remapped'] = da_dC_change_tot\n",
    "ECCO_MTM_remapped['init_early'] = MTM_result.init_early\n",
    "ECCO_MTM_remapped['init_late'] = MTM_result.init_late\n",
    "ECCO_MTM_remapped['dyrs'] = MTM_result.dyrs\n",
    "\n",
    "ECCO_MTM_remapped.to_netcdf(OTMrun+'_remapped.nc')\n",
    "#ECCO_MTM_remapped.to_netcdf('OTM_remapped.nc')\n"
   ]
  },
  {
   "cell_type": "code",
   "execution_count": 19,
   "id": "57b8f9fa-555e-427d-887f-759fce89fb3a",
   "metadata": {},
   "outputs": [
    {
     "name": "stdout",
     "output_type": "stream",
     "text": [
      "3.2191988e+18\n",
      "1.578334e+18\n",
      "1.6408754e+18\n",
      "1.7179783e+18\n"
     ]
    }
   ],
   "source": [
    "print(((ECCO_MTM_remapped.dC_prior_remapped+ECCO_MTM_remapped.dC_adj_remapped)*ECCO_MTM_remapped.drF*ECCO_MTM_remapped.rA).values.sum())\n",
    "print((ECCO_MTM_remapped.dC_Cflux_remapped*ECCO_MTM_remapped.drF*ECCO_MTM_remapped.rA).values.sum())\n",
    "print((ECCO_MTM_remapped.dC_adj_remapped*ECCO_MTM_remapped.drF*ECCO_MTM_remapped.rA).values.sum())\n",
    "print((ECCO_MTM_remapped.dC_change_remapped*ECCO_MTM_remapped.drF*ECCO_MTM_remapped.rA).values.sum())"
   ]
  },
  {
   "cell_type": "code",
   "execution_count": null,
   "id": "f09e7b46-8668-4926-8730-c630b1cdfd10",
   "metadata": {},
   "outputs": [],
   "source": []
  }
 ],
 "metadata": {
  "kernelspec": {
   "display_name": "Python 3 (ipykernel)",
   "language": "python",
   "name": "python3"
  },
  "language_info": {
   "codemirror_mode": {
    "name": "ipython",
    "version": 3
   },
   "file_extension": ".py",
   "mimetype": "text/x-python",
   "name": "python",
   "nbconvert_exporter": "python",
   "pygments_lexer": "ipython3",
   "version": "3.8.15"
  }
 },
 "nbformat": 4,
 "nbformat_minor": 5
}
